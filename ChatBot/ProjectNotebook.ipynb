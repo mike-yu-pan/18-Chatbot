{
 "cells": [
  {
   "cell_type": "markdown",
   "metadata": {},
   "source": [
    "Project Description\n"
   ]
  },
  {
   "cell_type": "markdown",
   "metadata": {},
   "source": [
    "This is a chatbot named \"Mike\". You can have some basic conversation with it. To expand this chatbot's functionality, I added some additional module that I wrote myself. With these modules, the chatbot is able do some simple tasks such as: \n",
    "\n",
    "-Tossing a dice of the sizes you need\n",
    "\n",
    "-Enciphering/deciphering by adding a certain integer to the Unicode code point to each character in your message. (said integer is called \"key\" in my project)\n",
    "\n",
    "-Deciphering an encoded message without knowing the key through trying out possible keys  one by one until the message makes sytatic sense. (this function might fail if the message is too short or influenced by other factors)"
   ]
  },
  {
   "cell_type": "markdown",
   "metadata": {},
   "source": [
    "Side note: Considering that this is the best way to demonstrate my project, I didn't put the following code into a separate python file which can be executed with the terminal. The following code puts together many other elements from files in chatbot_modules. "
   ]
  },
  {
   "cell_type": "markdown",
   "metadata": {},
   "source": [
    "My codes might look similar to the codes in the chatbot assignment because I did learned a lot from the structing in that assignment"
   ]
  },
  {
   "cell_type": "markdown",
   "metadata": {},
   "source": [
    "Project Code: "
   ]
  },
  {
   "cell_type": "code",
   "execution_count": 57,
   "metadata": {},
   "outputs": [],
   "source": [
    "#import the modules\n",
    "import string\n",
    "import random\n",
    "\n",
    "#the dice module\n",
    "from chatbot_modules import dice as di\n",
    "\n",
    "#the \"code cracking\" module, which allows the chatbot the decipher a nessage without knowing the key\n",
    "from chatbot_modules import codecracking as cc\n",
    "\n",
    "#the encode module, which allows the chatbot to encode and decode a message\n",
    "from chatbot_modules import encode as ec\n",
    "\n",
    "#this module consists of a bunch of lists that allows the chatbot to recognize the meaning of a text and to respond accordingly\n",
    "from chatbot_modules import phrase_list as pl\n",
    "\n",
    "#this moodule consists of a bunch of function that allows the chatbot to recognize the meaning of a text\n",
    "from chatbot_modules import chatbot_funct as cf"
   ]
  },
  {
   "cell_type": "code",
   "execution_count": 58,
   "metadata": {},
   "outputs": [
    {
     "name": "stdout",
     "output_type": "stream",
     "text": [
      "-Hi chief, I am Mike, you can chat with me, ask me to do some task such as:\n",
      "  -tossing a dice\n",
      "  -encipher/decipher your message\n",
      "  -decipher your message without knowing your key\n",
      "quit\n",
      "-Au revoir!\n"
     ]
    }
   ],
   "source": [
    "print(\"-Hi chief, I am Mike, you can chat with me, ask me to do some task such as:\\n  -tossing a dice\\n  -encipher/decipher your message\\n  -decipher your message without knowing your key\")\n",
    "\n",
    "chatting = True\n",
    "small_talk = False\n",
    "\n",
    "#initialize chat\n",
    "while chatting: \n",
    "    \n",
    "    #process the input into machine-friendly texts\n",
    "    raw_in = input()\n",
    "    text = cf.prepare_text(raw_in)\n",
    "    \n",
    "    #these function are all from chatbot_funct to recognize what the user is trying to say\n",
    "    hi_greeting = cf.is_hi_greeting(text)\n",
    "    ques_greeting = cf.is_ques_greeting(text)\n",
    "    question = cf.is_question(text)\n",
    "    end = cf.end_chat(text)\n",
    "    greeting = cf.is_greeting(text)\n",
    "    tasking = cf.is_tasking(text)\n",
    "    conscious = cf.conscious_ques(text)\n",
    "\n",
    "    #a little fun compliment if a user uses the word \"please\"\n",
    "    if \"please\" in text: \n",
    "        print(\"-How polite :)\")\n",
    "        \n",
    "    #if the user wishes to end chat, this function does it\n",
    "    if end: \n",
    "        print(\"-\" + random.choice(pl.bye_greeting))\n",
    "        break\n",
    "\n",
    "    #if the user asks a question, this function will respond\n",
    "    while question: \n",
    "        if greeting: \n",
    "            break\n",
    "        elif conscious: \n",
    "            print(\"-\" + random.choice(pl.conscious_resp))\n",
    "        question = False\n",
    "        \n",
    "        break\n",
    "\n",
    "    \n",
    "    #if the user greets, this function will respond, and proceed to \"small_talk\" if necessary\n",
    "    while greeting: \n",
    "        if hi_greeting: \n",
    "            print(\"-\" + random.choice(pl.out_ques_greeting))\n",
    "            small_talk = True\n",
    "            break\n",
    "        elif question: \n",
    "            if ques_greeting: \n",
    "                print(\"-\" + random.choice(pl.respond_ques_greeting))\n",
    "                break\n",
    "            else: \n",
    "                print(\"-answer\")\n",
    "                break\n",
    "        greeting = False\n",
    "        break\n",
    "\n",
    "        \n",
    "    #this function allows the chatbot to recognize if the user says he/she is doing well or not, then respond accordingly\n",
    "    while small_talk:\n",
    "\n",
    "        greeting = False\n",
    "        ques_greeting = cf.is_ques_greeting(text)\n",
    "        good_resp = cf.is_resp_good(text)\n",
    "\n",
    "        if hi_greeting: \n",
    "            break\n",
    "\n",
    "        if good_resp and ques_greeting: \n",
    "            print(\"-\" + random.choice(pl.respond_ques_greeting))\n",
    "            print(\"-\" + random.choice(pl.out_good))\n",
    "            cf.what_else()\n",
    "            small_talk = False\n",
    "            break\n",
    "        elif good_resp: \n",
    "            print(\"-\" + random.choice(pl.out_good))\n",
    "            cf.what_else()\n",
    "            small_talk = False\n",
    "            break\n",
    "        else: \n",
    "            print(\"-Is something wrong?\")\n",
    "            inp = input()\n",
    "            cf.what_else()\n",
    "            small_talk = False\n",
    "            break\n",
    "        break\n",
    "\n",
    "\n",
    "    #this function is working if the chatbot recognizes that the user wishes it to perform a task\n",
    "    while tasking: \n",
    "\n",
    "        small_talk = False\n",
    "        codecracking = cf.is_codecracking(text)\n",
    "        decode = cf.is_decoding(text)\n",
    "        dice = cf.is_dice(text)\n",
    "        encode = cf.is_encode(text)\n",
    "\n",
    "        if dice: \n",
    "            di.exe()\n",
    "            cf.what_else()\n",
    "            break\n",
    "\n",
    "        if encode: \n",
    "            ec.exe()\n",
    "            cf.what_else()\n",
    "            break\n",
    "        \n",
    "        if codecracking: \n",
    "            cc.exe()\n",
    "            cf.what_else()\n",
    "            break\n",
    "        \n",
    "        if decode: \n",
    "            inp = input(\"-Do you know your key?\")\n",
    "            ans = cf.prepare_text(inp)\n",
    "\n",
    "            if ans in pl.pos : \n",
    "                decode = False\n",
    "                ec.exe_decode()\n",
    "\n",
    "            elif ans in pl.neg: \n",
    "                decode = False\n",
    "                cc.exe()\n",
    "            cf.what_else()\n",
    "            break\n",
    "\n",
    "    #if the chatbot cannot recognize what the user is trying to day, this will tell the user that it doesn't understand\n",
    "    if not tasking: \n",
    "        if not greeting:\n",
    "            if not small_talk: \n",
    "                if not question: \n",
    "                    print(\"-\" + random.choice(pl.not_understand))\n",
    "                    cf.what_else()"
   ]
  },
  {
   "cell_type": "code",
   "execution_count": 59,
   "metadata": {},
   "outputs": [],
   "source": [
    "# test code\n",
    "assert cf.end_chat(\"bye bye\") == True\n",
    "assert cf.is_question(\"hello?\") == True\n",
    "assert cf.is_hi_greeting(\"hi!\") == True\n"
   ]
  },
  {
   "cell_type": "code",
   "execution_count": null,
   "metadata": {},
   "outputs": [],
   "source": []
  }
 ],
 "metadata": {
  "kernelspec": {
   "display_name": "Python 3",
   "language": "python",
   "name": "python3"
  },
  "language_info": {
   "codemirror_mode": {
    "name": "ipython",
    "version": 3
   },
   "file_extension": ".py",
   "mimetype": "text/x-python",
   "name": "python",
   "nbconvert_exporter": "python",
   "pygments_lexer": "ipython3",
   "version": "3.7.1"
  }
 },
 "nbformat": 4,
 "nbformat_minor": 2
}
